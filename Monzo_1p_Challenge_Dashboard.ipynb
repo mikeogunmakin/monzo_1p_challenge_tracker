{
  "cells": [
    {
      "cell_type": "markdown",
      "metadata": {
        "id": "view-in-github",
        "colab_type": "text"
      },
      "source": [
        "<a href=\"https://colab.research.google.com/github/mikeogunmakin/monzo_1p_challenge_tracker/blob/main/Monzo_1p_Challenge_Dashboard.ipynb\" target=\"_parent\"><img src=\"https://colab.research.google.com/assets/colab-badge.svg\" alt=\"Open In Colab\"/></a>"
      ]
    },
    {
      "cell_type": "markdown",
      "source": [
        "# Monzo 1p Challenge Tracker"
      ],
      "metadata": {
        "id": "EpLxYtRP6yg3"
      }
    },
    {
      "cell_type": "markdown",
      "source": [
        "## **Context**\n",
        "\n",
        "The Monzo 1p Savings Challenge is a popular personal finance challenge that helps individuals save money incrementally over the course of a year. The idea is simple: start by saving just 1 penny on the first day, then increase the amount saved by 1p each day."
      ],
      "metadata": {
        "id": "74VWVpRD6-zz"
      }
    },
    {
      "cell_type": "markdown",
      "source": [
        "## **Import Modules**"
      ],
      "metadata": {
        "id": "Z4n5rDIB6k1W"
      }
    },
    {
      "cell_type": "code",
      "execution_count": 5,
      "metadata": {
        "id": "bIIUJdE_AP5T"
      },
      "outputs": [],
      "source": [
        "import pandas as pd\n",
        "from datetime import datetime"
      ]
    },
    {
      "cell_type": "markdown",
      "source": [
        "## **Functions to Perform Calculations**"
      ],
      "metadata": {
        "id": "BwExPoJP6qW_"
      }
    },
    {
      "cell_type": "markdown",
      "source": [
        "### Attribute 1: Calculate the Day of Year from a provided Date"
      ],
      "metadata": {
        "id": "4mrozNhduPR-"
      }
    },
    {
      "cell_type": "code",
      "execution_count": 6,
      "metadata": {
        "id": "-Fm_rFWLHqvZ"
      },
      "outputs": [],
      "source": [
        "def day_of_year(date):\n",
        "  # convert str to datetime\n",
        "  date_conv = datetime.strptime(date, '%d-%m-%Y')\n",
        "\n",
        "  # convert datetime to day of year (DoY)\n",
        "  doy = date_conv.timetuple().tm_yday\n",
        "\n",
        "  return doy"
      ]
    },
    {
      "cell_type": "markdown",
      "source": [
        "### Attribute 2: Calculate the total cummulated savings from a provided date"
      ],
      "metadata": {
        "id": "PRDqdH1fuYZd"
      }
    },
    {
      "cell_type": "code",
      "execution_count": 7,
      "metadata": {
        "id": "qC5zU0cRCtwo"
      },
      "outputs": [],
      "source": [
        "def total_savings_by_date(date):\n",
        "  # convert str to datetime\n",
        "  date_conv = datetime.strptime(date, '%d-%m-%Y')\n",
        "\n",
        "  # convert datetime to day of year (DoY)\n",
        "  doy = date_conv.timetuple().tm_yday\n",
        "\n",
        "  # calculate total amount saved by DoY\n",
        "  total = round(((doy*(doy+1)) / 2) * 0.01,2)\n",
        "\n",
        "  return total"
      ]
    },
    {
      "cell_type": "markdown",
      "source": [
        "### Attribute 3: Calculate the Amount Saved on a given date"
      ],
      "metadata": {
        "id": "Vs2t8W2Punjx"
      }
    },
    {
      "cell_type": "code",
      "execution_count": 8,
      "metadata": {
        "id": "QugbdATyEehB"
      },
      "outputs": [],
      "source": [
        "def amount_saved_on_date(date):\n",
        "  # convert str to datetime\n",
        "  date_conv = datetime.strptime(date, '%d-%m-%Y')\n",
        "\n",
        "  # convert datetime to day of year (DoY)\n",
        "  doy = date_conv.timetuple().tm_yday\n",
        "\n",
        "  # calculate daily amount on DoY\n",
        "  daily_amount = round(doy * 0.01,2)\n",
        "\n",
        "  return daily_amount\n"
      ]
    },
    {
      "cell_type": "markdown",
      "source": [
        "### Function thats builds a Dataframe with all the above attributes\n"
      ],
      "metadata": {
        "id": "nn2hTY-tvR72"
      }
    },
    {
      "cell_type": "code",
      "execution_count": 9,
      "metadata": {
        "id": "tK2En335Zqpp"
      },
      "outputs": [],
      "source": [
        "def create_dataframe(date):\n",
        "\n",
        "  date = datetime.strptime(date, \"%d-%m-%Y\")\n",
        "\n",
        "  # creating the Date column\n",
        "  dates = [day.strftime('%d-%m-%Y') for day in pd.date_range('01-01-2025',date)]\n",
        "\n",
        "  # creating Day of Year (DoY) Column\n",
        "  doy = [ day_of_year(day.strftime('%d-%m-%Y')) for day in pd.date_range('01-01-2025',date)]\n",
        "\n",
        "  # creating Cummulated Savings\n",
        "  cummulated_savings = [ total_savings_by_date(day.strftime('%d-%m-%Y')) for day in pd.date_range('01-01-2025',date)]\n",
        "\n",
        "  # amount saved on each day\n",
        "  daily_saved_amount = [amount_saved_on_date(day.strftime('%d-%m-%Y')) for day in pd.date_range('01-01-2025',date)]\n",
        "\n",
        "  # create dictionary of variables\n",
        "  df_dic = {'Date': dates, 'Day_of_Year': doy,'Daily_Savings': daily_saved_amount ,'Cummulated_Savings': cummulated_savings, }\n",
        "\n",
        "  # create dataframe\n",
        "  df = pd.DataFrame(data=df_dic)\n",
        "\n",
        "  return df"
      ]
    },
    {
      "cell_type": "markdown",
      "source": [
        "## Final Dataframe"
      ],
      "metadata": {
        "id": "8t12e77pwh7-"
      }
    },
    {
      "cell_type": "code",
      "execution_count": 10,
      "metadata": {
        "colab": {
          "base_uri": "https://localhost:8080/",
          "height": 206
        },
        "id": "j651_2Jjar4a",
        "outputId": "702fd9fc-cf99-42f1-c3af-fd2dd5c06fa7"
      },
      "outputs": [
        {
          "output_type": "execute_result",
          "data": {
            "text/plain": [
              "           Date  Day_of_Year  Daily_Savings  Cummulated_Savings\n",
              "360  27-12-2025          361           3.61              653.41\n",
              "361  28-12-2025          362           3.62              657.03\n",
              "362  29-12-2025          363           3.63              660.66\n",
              "363  30-12-2025          364           3.64              664.30\n",
              "364  31-12-2025          365           3.65              667.95"
            ],
            "text/html": [
              "\n",
              "  <div id=\"df-6abfef9f-7f51-43e7-980c-3da632c867a2\" class=\"colab-df-container\">\n",
              "    <div>\n",
              "<style scoped>\n",
              "    .dataframe tbody tr th:only-of-type {\n",
              "        vertical-align: middle;\n",
              "    }\n",
              "\n",
              "    .dataframe tbody tr th {\n",
              "        vertical-align: top;\n",
              "    }\n",
              "\n",
              "    .dataframe thead th {\n",
              "        text-align: right;\n",
              "    }\n",
              "</style>\n",
              "<table border=\"1\" class=\"dataframe\">\n",
              "  <thead>\n",
              "    <tr style=\"text-align: right;\">\n",
              "      <th></th>\n",
              "      <th>Date</th>\n",
              "      <th>Day_of_Year</th>\n",
              "      <th>Daily_Savings</th>\n",
              "      <th>Cummulated_Savings</th>\n",
              "    </tr>\n",
              "  </thead>\n",
              "  <tbody>\n",
              "    <tr>\n",
              "      <th>360</th>\n",
              "      <td>27-12-2025</td>\n",
              "      <td>361</td>\n",
              "      <td>3.61</td>\n",
              "      <td>653.41</td>\n",
              "    </tr>\n",
              "    <tr>\n",
              "      <th>361</th>\n",
              "      <td>28-12-2025</td>\n",
              "      <td>362</td>\n",
              "      <td>3.62</td>\n",
              "      <td>657.03</td>\n",
              "    </tr>\n",
              "    <tr>\n",
              "      <th>362</th>\n",
              "      <td>29-12-2025</td>\n",
              "      <td>363</td>\n",
              "      <td>3.63</td>\n",
              "      <td>660.66</td>\n",
              "    </tr>\n",
              "    <tr>\n",
              "      <th>363</th>\n",
              "      <td>30-12-2025</td>\n",
              "      <td>364</td>\n",
              "      <td>3.64</td>\n",
              "      <td>664.30</td>\n",
              "    </tr>\n",
              "    <tr>\n",
              "      <th>364</th>\n",
              "      <td>31-12-2025</td>\n",
              "      <td>365</td>\n",
              "      <td>3.65</td>\n",
              "      <td>667.95</td>\n",
              "    </tr>\n",
              "  </tbody>\n",
              "</table>\n",
              "</div>\n",
              "    <div class=\"colab-df-buttons\">\n",
              "\n",
              "  <div class=\"colab-df-container\">\n",
              "    <button class=\"colab-df-convert\" onclick=\"convertToInteractive('df-6abfef9f-7f51-43e7-980c-3da632c867a2')\"\n",
              "            title=\"Convert this dataframe to an interactive table.\"\n",
              "            style=\"display:none;\">\n",
              "\n",
              "  <svg xmlns=\"http://www.w3.org/2000/svg\" height=\"24px\" viewBox=\"0 -960 960 960\">\n",
              "    <path d=\"M120-120v-720h720v720H120Zm60-500h600v-160H180v160Zm220 220h160v-160H400v160Zm0 220h160v-160H400v160ZM180-400h160v-160H180v160Zm440 0h160v-160H620v160ZM180-180h160v-160H180v160Zm440 0h160v-160H620v160Z\"/>\n",
              "  </svg>\n",
              "    </button>\n",
              "\n",
              "  <style>\n",
              "    .colab-df-container {\n",
              "      display:flex;\n",
              "      gap: 12px;\n",
              "    }\n",
              "\n",
              "    .colab-df-convert {\n",
              "      background-color: #E8F0FE;\n",
              "      border: none;\n",
              "      border-radius: 50%;\n",
              "      cursor: pointer;\n",
              "      display: none;\n",
              "      fill: #1967D2;\n",
              "      height: 32px;\n",
              "      padding: 0 0 0 0;\n",
              "      width: 32px;\n",
              "    }\n",
              "\n",
              "    .colab-df-convert:hover {\n",
              "      background-color: #E2EBFA;\n",
              "      box-shadow: 0px 1px 2px rgba(60, 64, 67, 0.3), 0px 1px 3px 1px rgba(60, 64, 67, 0.15);\n",
              "      fill: #174EA6;\n",
              "    }\n",
              "\n",
              "    .colab-df-buttons div {\n",
              "      margin-bottom: 4px;\n",
              "    }\n",
              "\n",
              "    [theme=dark] .colab-df-convert {\n",
              "      background-color: #3B4455;\n",
              "      fill: #D2E3FC;\n",
              "    }\n",
              "\n",
              "    [theme=dark] .colab-df-convert:hover {\n",
              "      background-color: #434B5C;\n",
              "      box-shadow: 0px 1px 3px 1px rgba(0, 0, 0, 0.15);\n",
              "      filter: drop-shadow(0px 1px 2px rgba(0, 0, 0, 0.3));\n",
              "      fill: #FFFFFF;\n",
              "    }\n",
              "  </style>\n",
              "\n",
              "    <script>\n",
              "      const buttonEl =\n",
              "        document.querySelector('#df-6abfef9f-7f51-43e7-980c-3da632c867a2 button.colab-df-convert');\n",
              "      buttonEl.style.display =\n",
              "        google.colab.kernel.accessAllowed ? 'block' : 'none';\n",
              "\n",
              "      async function convertToInteractive(key) {\n",
              "        const element = document.querySelector('#df-6abfef9f-7f51-43e7-980c-3da632c867a2');\n",
              "        const dataTable =\n",
              "          await google.colab.kernel.invokeFunction('convertToInteractive',\n",
              "                                                    [key], {});\n",
              "        if (!dataTable) return;\n",
              "\n",
              "        const docLinkHtml = 'Like what you see? Visit the ' +\n",
              "          '<a target=\"_blank\" href=https://colab.research.google.com/notebooks/data_table.ipynb>data table notebook</a>'\n",
              "          + ' to learn more about interactive tables.';\n",
              "        element.innerHTML = '';\n",
              "        dataTable['output_type'] = 'display_data';\n",
              "        await google.colab.output.renderOutput(dataTable, element);\n",
              "        const docLink = document.createElement('div');\n",
              "        docLink.innerHTML = docLinkHtml;\n",
              "        element.appendChild(docLink);\n",
              "      }\n",
              "    </script>\n",
              "  </div>\n",
              "\n",
              "\n",
              "<div id=\"df-4466e449-fe62-41b0-89bd-d15b07959dd5\">\n",
              "  <button class=\"colab-df-quickchart\" onclick=\"quickchart('df-4466e449-fe62-41b0-89bd-d15b07959dd5')\"\n",
              "            title=\"Suggest charts\"\n",
              "            style=\"display:none;\">\n",
              "\n",
              "<svg xmlns=\"http://www.w3.org/2000/svg\" height=\"24px\"viewBox=\"0 0 24 24\"\n",
              "     width=\"24px\">\n",
              "    <g>\n",
              "        <path d=\"M19 3H5c-1.1 0-2 .9-2 2v14c0 1.1.9 2 2 2h14c1.1 0 2-.9 2-2V5c0-1.1-.9-2-2-2zM9 17H7v-7h2v7zm4 0h-2V7h2v10zm4 0h-2v-4h2v4z\"/>\n",
              "    </g>\n",
              "</svg>\n",
              "  </button>\n",
              "\n",
              "<style>\n",
              "  .colab-df-quickchart {\n",
              "      --bg-color: #E8F0FE;\n",
              "      --fill-color: #1967D2;\n",
              "      --hover-bg-color: #E2EBFA;\n",
              "      --hover-fill-color: #174EA6;\n",
              "      --disabled-fill-color: #AAA;\n",
              "      --disabled-bg-color: #DDD;\n",
              "  }\n",
              "\n",
              "  [theme=dark] .colab-df-quickchart {\n",
              "      --bg-color: #3B4455;\n",
              "      --fill-color: #D2E3FC;\n",
              "      --hover-bg-color: #434B5C;\n",
              "      --hover-fill-color: #FFFFFF;\n",
              "      --disabled-bg-color: #3B4455;\n",
              "      --disabled-fill-color: #666;\n",
              "  }\n",
              "\n",
              "  .colab-df-quickchart {\n",
              "    background-color: var(--bg-color);\n",
              "    border: none;\n",
              "    border-radius: 50%;\n",
              "    cursor: pointer;\n",
              "    display: none;\n",
              "    fill: var(--fill-color);\n",
              "    height: 32px;\n",
              "    padding: 0;\n",
              "    width: 32px;\n",
              "  }\n",
              "\n",
              "  .colab-df-quickchart:hover {\n",
              "    background-color: var(--hover-bg-color);\n",
              "    box-shadow: 0 1px 2px rgba(60, 64, 67, 0.3), 0 1px 3px 1px rgba(60, 64, 67, 0.15);\n",
              "    fill: var(--button-hover-fill-color);\n",
              "  }\n",
              "\n",
              "  .colab-df-quickchart-complete:disabled,\n",
              "  .colab-df-quickchart-complete:disabled:hover {\n",
              "    background-color: var(--disabled-bg-color);\n",
              "    fill: var(--disabled-fill-color);\n",
              "    box-shadow: none;\n",
              "  }\n",
              "\n",
              "  .colab-df-spinner {\n",
              "    border: 2px solid var(--fill-color);\n",
              "    border-color: transparent;\n",
              "    border-bottom-color: var(--fill-color);\n",
              "    animation:\n",
              "      spin 1s steps(1) infinite;\n",
              "  }\n",
              "\n",
              "  @keyframes spin {\n",
              "    0% {\n",
              "      border-color: transparent;\n",
              "      border-bottom-color: var(--fill-color);\n",
              "      border-left-color: var(--fill-color);\n",
              "    }\n",
              "    20% {\n",
              "      border-color: transparent;\n",
              "      border-left-color: var(--fill-color);\n",
              "      border-top-color: var(--fill-color);\n",
              "    }\n",
              "    30% {\n",
              "      border-color: transparent;\n",
              "      border-left-color: var(--fill-color);\n",
              "      border-top-color: var(--fill-color);\n",
              "      border-right-color: var(--fill-color);\n",
              "    }\n",
              "    40% {\n",
              "      border-color: transparent;\n",
              "      border-right-color: var(--fill-color);\n",
              "      border-top-color: var(--fill-color);\n",
              "    }\n",
              "    60% {\n",
              "      border-color: transparent;\n",
              "      border-right-color: var(--fill-color);\n",
              "    }\n",
              "    80% {\n",
              "      border-color: transparent;\n",
              "      border-right-color: var(--fill-color);\n",
              "      border-bottom-color: var(--fill-color);\n",
              "    }\n",
              "    90% {\n",
              "      border-color: transparent;\n",
              "      border-bottom-color: var(--fill-color);\n",
              "    }\n",
              "  }\n",
              "</style>\n",
              "\n",
              "  <script>\n",
              "    async function quickchart(key) {\n",
              "      const quickchartButtonEl =\n",
              "        document.querySelector('#' + key + ' button');\n",
              "      quickchartButtonEl.disabled = true;  // To prevent multiple clicks.\n",
              "      quickchartButtonEl.classList.add('colab-df-spinner');\n",
              "      try {\n",
              "        const charts = await google.colab.kernel.invokeFunction(\n",
              "            'suggestCharts', [key], {});\n",
              "      } catch (error) {\n",
              "        console.error('Error during call to suggestCharts:', error);\n",
              "      }\n",
              "      quickchartButtonEl.classList.remove('colab-df-spinner');\n",
              "      quickchartButtonEl.classList.add('colab-df-quickchart-complete');\n",
              "    }\n",
              "    (() => {\n",
              "      let quickchartButtonEl =\n",
              "        document.querySelector('#df-4466e449-fe62-41b0-89bd-d15b07959dd5 button');\n",
              "      quickchartButtonEl.style.display =\n",
              "        google.colab.kernel.accessAllowed ? 'block' : 'none';\n",
              "    })();\n",
              "  </script>\n",
              "</div>\n",
              "\n",
              "    </div>\n",
              "  </div>\n"
            ],
            "application/vnd.google.colaboratory.intrinsic+json": {
              "type": "dataframe",
              "repr_error": "0"
            }
          },
          "metadata": {},
          "execution_count": 10
        }
      ],
      "source": [
        "df = create_dataframe('31-12-2025')\n",
        "\n",
        "# A quick QA check\n",
        "df.tail()"
      ]
    },
    {
      "cell_type": "markdown",
      "source": [
        "## Importing Dataframe into Google Sheets\n",
        "\n",
        "The Google sheet will be the data source for the Looker Dashboard"
      ],
      "metadata": {
        "id": "neC0M4Fmw07E"
      }
    },
    {
      "cell_type": "code",
      "source": [
        "## Importing Library\n",
        "!pip install --upgrade gspread\n",
        "\n",
        "import gspread\n",
        "\n",
        "from google.colab import auth\n",
        "\n",
        "from google.auth import default\n",
        "\n",
        "## 1. Define the sheet ID and worksheet name\n",
        "sheet_id =\"12vpP8i1BUumtQOqwPAG9Qp9VVgyD_Wzs0J5hS_ojelI\" #adjust to your own\n",
        "worksheet_name = \"Sheet1\" #adjust to your own\n",
        "\n",
        "## 2. Allow Google Colaboratory to access Google Sheets\n",
        "auth.authenticate_user() #Authenticating user\n",
        "creds, _ = default() #Storing your google sheet credentials\n",
        "\n",
        "gc = gspread.authorize(creds) #Authorizing your credentials\n",
        "\n",
        "sh = gc.open_by_key(sheet_id) #Establishing connection to your sheet\n",
        "\n",
        "worksheet = sh.worksheet(worksheet_name) #Specifying the worksheet used\n",
        "\n",
        "## 3. Write data on Google Sheets\n",
        "worksheet.clear() #Clearing worksheet (optional)\n",
        "worksheet.update([df.columns.values.tolist()] + df.values.tolist()) #Writing the dataframe to your sheet"
      ],
      "metadata": {
        "colab": {
          "base_uri": "https://localhost:8080/"
        },
        "id": "sVVgMczFI7vJ",
        "outputId": "8170c253-3474-4296-9936-647d372462e7"
      },
      "execution_count": null,
      "outputs": [
        {
          "output_type": "stream",
          "name": "stdout",
          "text": [
            "Requirement already satisfied: gspread in /usr/local/lib/python3.10/dist-packages (6.0.2)\n",
            "Collecting gspread\n",
            "  Downloading gspread-6.1.4-py3-none-any.whl.metadata (11 kB)\n",
            "Requirement already satisfied: google-auth>=1.12.0 in /usr/local/lib/python3.10/dist-packages (from gspread) (2.27.0)\n",
            "Requirement already satisfied: google-auth-oauthlib>=0.4.1 in /usr/local/lib/python3.10/dist-packages (from gspread) (1.2.1)\n",
            "Requirement already satisfied: cachetools<6.0,>=2.0.0 in /usr/local/lib/python3.10/dist-packages (from google-auth>=1.12.0->gspread) (5.5.0)\n",
            "Requirement already satisfied: pyasn1-modules>=0.2.1 in /usr/local/lib/python3.10/dist-packages (from google-auth>=1.12.0->gspread) (0.4.1)\n",
            "Requirement already satisfied: rsa<5,>=3.1.4 in /usr/local/lib/python3.10/dist-packages (from google-auth>=1.12.0->gspread) (4.9)\n",
            "Requirement already satisfied: requests-oauthlib>=0.7.0 in /usr/local/lib/python3.10/dist-packages (from google-auth-oauthlib>=0.4.1->gspread) (1.3.1)\n",
            "Requirement already satisfied: pyasn1<0.7.0,>=0.4.6 in /usr/local/lib/python3.10/dist-packages (from pyasn1-modules>=0.2.1->google-auth>=1.12.0->gspread) (0.6.1)\n",
            "Requirement already satisfied: oauthlib>=3.0.0 in /usr/local/lib/python3.10/dist-packages (from requests-oauthlib>=0.7.0->google-auth-oauthlib>=0.4.1->gspread) (3.2.2)\n",
            "Requirement already satisfied: requests>=2.0.0 in /usr/local/lib/python3.10/dist-packages (from requests-oauthlib>=0.7.0->google-auth-oauthlib>=0.4.1->gspread) (2.32.3)\n",
            "Requirement already satisfied: charset-normalizer<4,>=2 in /usr/local/lib/python3.10/dist-packages (from requests>=2.0.0->requests-oauthlib>=0.7.0->google-auth-oauthlib>=0.4.1->gspread) (3.4.0)\n",
            "Requirement already satisfied: idna<4,>=2.5 in /usr/local/lib/python3.10/dist-packages (from requests>=2.0.0->requests-oauthlib>=0.7.0->google-auth-oauthlib>=0.4.1->gspread) (3.10)\n",
            "Requirement already satisfied: urllib3<3,>=1.21.1 in /usr/local/lib/python3.10/dist-packages (from requests>=2.0.0->requests-oauthlib>=0.7.0->google-auth-oauthlib>=0.4.1->gspread) (2.2.3)\n",
            "Requirement already satisfied: certifi>=2017.4.17 in /usr/local/lib/python3.10/dist-packages (from requests>=2.0.0->requests-oauthlib>=0.7.0->google-auth-oauthlib>=0.4.1->gspread) (2024.12.14)\n",
            "Downloading gspread-6.1.4-py3-none-any.whl (57 kB)\n",
            "\u001b[2K   \u001b[90m━━━━━━━━━━━━━━━━━━━━━━━━━━━━━━━━━━━━━━━━\u001b[0m \u001b[32m57.6/57.6 kB\u001b[0m \u001b[31m3.1 MB/s\u001b[0m eta \u001b[36m0:00:00\u001b[0m\n",
            "\u001b[?25hInstalling collected packages: gspread\n",
            "  Attempting uninstall: gspread\n",
            "    Found existing installation: gspread 6.0.2\n",
            "    Uninstalling gspread-6.0.2:\n",
            "      Successfully uninstalled gspread-6.0.2\n",
            "Successfully installed gspread-6.1.4\n"
          ]
        },
        {
          "output_type": "execute_result",
          "data": {
            "text/plain": [
              "{'spreadsheetId': '12vpP8i1BUumtQOqwPAG9Qp9VVgyD_Wzs0J5hS_ojelI',\n",
              " 'updatedRange': 'Sheet1!A1:D366',\n",
              " 'updatedRows': 366,\n",
              " 'updatedColumns': 4,\n",
              " 'updatedCells': 1464}"
            ]
          },
          "metadata": {},
          "execution_count": 15
        }
      ]
    }
  ],
  "metadata": {
    "colab": {
      "collapsed_sections": [
        "kSUOG0A6se1L"
      ],
      "provenance": [],
      "toc_visible": true,
      "authorship_tag": "ABX9TyMV5nr0Kk/RCZaKeJv9QLsA",
      "include_colab_link": true
    },
    "kernelspec": {
      "display_name": "Python 3",
      "name": "python3"
    },
    "language_info": {
      "name": "python"
    }
  },
  "nbformat": 4,
  "nbformat_minor": 0
}